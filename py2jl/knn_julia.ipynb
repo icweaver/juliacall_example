{
 "cells": [
  {
   "cell_type": "code",
   "execution_count": 1,
   "id": "e9a9c0a2",
   "metadata": {},
   "outputs": [],
   "source": [
    "import numpy as np\n",
    "from scipy.spatial import KDTree as KDTree"
   ]
  },
  {
   "cell_type": "markdown",
   "id": "4d88cc97",
   "metadata": {},
   "source": [
    "# the data"
   ]
  },
  {
   "cell_type": "code",
   "execution_count": 2,
   "id": "02b5b407",
   "metadata": {},
   "outputs": [],
   "source": [
    "data = np.random.random((1000, 3))\n",
    "query = np.array([0.5, 0.5, 0.5])"
   ]
  },
  {
   "cell_type": "markdown",
   "id": "3fc71eda",
   "metadata": {},
   "source": [
    "# python version"
   ]
  },
  {
   "cell_type": "code",
   "execution_count": 3,
   "id": "ae61d706",
   "metadata": {},
   "outputs": [],
   "source": [
    "def knn_py(data, query, k=3):\n",
    "    tree = KDTree(data)\n",
    "    return tree.query(query, k=k)"
   ]
  },
  {
   "cell_type": "code",
   "execution_count": 4,
   "id": "9643980d",
   "metadata": {},
   "outputs": [],
   "source": [
    "def knn_precomputed_py(tree, query, k=3):\n",
    "    return tree.query(query, k=k)"
   ]
  },
  {
   "cell_type": "code",
   "execution_count": 5,
   "id": "92975d09",
   "metadata": {},
   "outputs": [
    {
     "name": "stdout",
     "output_type": "stream",
     "text": [
      "[0.06855726 0.08288424 0.08613393] [921 207 511]\n",
      "[0.06855726 0.08288424 0.08613393] [921 207 511]\n",
      "True\n"
     ]
    }
   ],
   "source": [
    "results_py = knn_py(data, query)\n",
    "\n",
    "tree_py = KDTree(data)\n",
    "results_precomputed_py = knn_precomputed_py(tree_py, query)\n",
    "\n",
    "print(results_py[0], results_py[1])\n",
    "print(results_precomputed_py[0], results_precomputed_py[1])\n",
    "print(np.array_equal(results_py, results_precomputed_py))"
   ]
  },
  {
   "cell_type": "code",
   "execution_count": 6,
   "id": "54a583dc",
   "metadata": {},
   "outputs": [
    {
     "name": "stdout",
     "output_type": "stream",
     "text": [
      "165 µs ± 368 ns per loop (mean ± std. dev. of 7 runs, 10000 loops each)\n"
     ]
    }
   ],
   "source": [
    "%timeit knn_py(data, query)"
   ]
  },
  {
   "cell_type": "code",
   "execution_count": 7,
   "id": "212b792f",
   "metadata": {},
   "outputs": [
    {
     "name": "stdout",
     "output_type": "stream",
     "text": [
      "16.8 µs ± 552 ns per loop (mean ± std. dev. of 7 runs, 100000 loops each)\n"
     ]
    }
   ],
   "source": [
    "%timeit knn_precomputed_py(tree_py, query)"
   ]
  },
  {
   "cell_type": "markdown",
   "id": "0cecfed1-39b6-40c2-ab80-df243e9ac7ad",
   "metadata": {},
   "source": [
    "# using juliacall"
   ]
  },
  {
   "cell_type": "code",
   "execution_count": 8,
   "id": "c9ef3fea-a01f-406b-84cc-8daf641686cf",
   "metadata": {},
   "outputs": [
    {
     "name": "stdout",
     "output_type": "stream",
     "text": [
      "Querying Julia versions from https://julialang-s3.julialang.org/bin/versions.json\n",
      "Found Julia 1.7.1 at 'julia'\n"
     ]
    }
   ],
   "source": [
    "from juliacall import Main as jl\n",
    "jl.seval(\"using NearestNeighbors\")"
   ]
  },
  {
   "cell_type": "code",
   "execution_count": 9,
   "id": "7aa024b6",
   "metadata": {},
   "outputs": [],
   "source": [
    "def knn_jl(data, query, k=3):\n",
    "    return jl.knn(jl.KDTree(data), query, k, True)"
   ]
  },
  {
   "cell_type": "code",
   "execution_count": 10,
   "id": "2611b4bc",
   "metadata": {},
   "outputs": [],
   "source": [
    "def knn_precomputed_jl(kdtree, query, k=3):\n",
    "    return jl.knn(kdtree, query, k, True)"
   ]
  },
  {
   "cell_type": "code",
   "execution_count": 11,
   "id": "3377bd65",
   "metadata": {},
   "outputs": [
    {
     "name": "stdout",
     "output_type": "stream",
     "text": [
      "[0.0685572642370606, 0.08288424104821678, 0.08613393269163352] [922, 208, 512]\n",
      "[0.0685572642370606, 0.08288424104821678, 0.08613393269163352] [922, 208, 512]\n",
      "True\n"
     ]
    }
   ],
   "source": [
    "data_t = data.transpose() # Not timing this part\n",
    "results_jl = knn_jl(data_t, query)\n",
    "\n",
    "tree_jl = jl.KDTree(data_t)\n",
    "results_precomputed_jl = knn_precomputed_jl(tree_jl, query)\n",
    "\n",
    "print(results_jl[1], results_jl[0])\n",
    "print(results_precomputed_jl[1], results_precomputed_jl[0])\n",
    "print(np.array_equal(results_jl, results_precomputed_jl))"
   ]
  },
  {
   "cell_type": "code",
   "execution_count": 12,
   "id": "1976e1b1",
   "metadata": {},
   "outputs": [
    {
     "name": "stdout",
     "output_type": "stream",
     "text": [
      "228 µs ± 5.83 µs per loop (mean ± std. dev. of 7 runs, 1000 loops each)\n"
     ]
    }
   ],
   "source": [
    "%timeit knn_jl(data_t, query)"
   ]
  },
  {
   "cell_type": "code",
   "execution_count": 13,
   "id": "8746dc2d",
   "metadata": {},
   "outputs": [
    {
     "name": "stdout",
     "output_type": "stream",
     "text": [
      "59.5 µs ± 3 µs per loop (mean ± std. dev. of 7 runs, 10000 loops each)\n"
     ]
    }
   ],
   "source": [
    "%timeit knn_precomputed_jl(tree_jl, query)"
   ]
  }
 ],
 "metadata": {
  "kernelspec": {
   "display_name": "Python 3 (ipykernel)",
   "language": "python",
   "name": "python3"
  },
  "language_info": {
   "codemirror_mode": {
    "name": "ipython",
    "version": 3
   },
   "file_extension": ".py",
   "mimetype": "text/x-python",
   "name": "python",
   "nbconvert_exporter": "python",
   "pygments_lexer": "ipython3",
   "version": "3.10.0"
  }
 },
 "nbformat": 4,
 "nbformat_minor": 5
}
